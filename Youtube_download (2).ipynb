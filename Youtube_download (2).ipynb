{
 "cells": [
  {
   "cell_type": "code",
   "execution_count": 1,
   "id": "a148f62e",
   "metadata": {},
   "outputs": [
    {
     "name": "stdout",
     "output_type": "stream",
     "text": [
      "Collecting https://github.com/yt-dlp/yt-dlp/archive/master.tar.gz\n",
      "  Using cached https://github.com/yt-dlp/yt-dlp/archive/master.tar.gz (2.4 MB)\n",
      "  Installing build dependencies: started\n",
      "  Installing build dependencies: finished with status 'done'\n",
      "  Getting requirements to build wheel: started\n",
      "  Getting requirements to build wheel: finished with status 'done'\n",
      "  Installing backend dependencies: started\n",
      "  Installing backend dependencies: finished with status 'done'\n",
      "  Preparing metadata (pyproject.toml): started\n",
      "  Preparing metadata (pyproject.toml): finished with status 'done'\n",
      "Collecting pycryptodomex\n",
      "  Using cached pycryptodomex-3.18.0-cp35-abi3-win_amd64.whl (1.7 MB)\n",
      "Collecting brotli\n",
      "  Using cached Brotli-1.0.9-cp39-cp39-win_amd64.whl (383 kB)\n",
      "Collecting certifi\n",
      "  Using cached certifi-2023.5.7-py3-none-any.whl (156 kB)\n",
      "Collecting mutagen\n",
      "  Using cached mutagen-1.46.0-py3-none-any.whl (193 kB)\n",
      "Collecting websockets\n",
      "  Using cached websockets-11.0.3-cp39-cp39-win_amd64.whl (124 kB)\n",
      "Building wheels for collected packages: yt-dlp\n",
      "  Building wheel for yt-dlp (pyproject.toml): started\n",
      "  Building wheel for yt-dlp (pyproject.toml): finished with status 'done'\n",
      "  Created wheel for yt-dlp: filename=yt_dlp-2023.3.4-py2.py3-none-any.whl size=2703539 sha256=d3565d553282c01c2785ef4cae898567fd219e5463ba1734fe55936e2c7baac1\n",
      "  Stored in directory: C:\\Users\\Jeong\\AppData\\Local\\Temp\\pip-ephem-wheel-cache-m_1hws8x\\wheels\\17\\62\\6f\\3db33a84feab4a3387d47a6ce0d53bd24fc437809b48b1c5e5\n",
      "Successfully built yt-dlp\n",
      "Installing collected packages: brotli, websockets, pycryptodomex, mutagen, certifi, yt-dlp\n",
      "  Attempting uninstall: brotli\n",
      "    Found existing installation: Brotli 1.0.9\n",
      "    Uninstalling Brotli-1.0.9:\n",
      "      Successfully uninstalled Brotli-1.0.9\n",
      "  Attempting uninstall: websockets\n",
      "    Found existing installation: websockets 11.0.3\n",
      "    Uninstalling websockets-11.0.3:\n",
      "      Successfully uninstalled websockets-11.0.3\n",
      "  Attempting uninstall: pycryptodomex\n",
      "    Found existing installation: pycryptodomex 3.18.0\n",
      "    Uninstalling pycryptodomex-3.18.0:\n",
      "      Successfully uninstalled pycryptodomex-3.18.0\n",
      "  Attempting uninstall: mutagen\n",
      "    Found existing installation: mutagen 1.46.0\n",
      "    Uninstalling mutagen-1.46.0:\n",
      "      Successfully uninstalled mutagen-1.46.0\n",
      "  Attempting uninstall: certifi\n",
      "    Found existing installation: certifi 2023.5.7\n",
      "    Uninstalling certifi-2023.5.7:\n",
      "      Successfully uninstalled certifi-2023.5.7\n",
      "  Attempting uninstall: yt-dlp\n",
      "    Found existing installation: yt-dlp 2023.3.4\n",
      "    Uninstalling yt-dlp-2023.3.4:\n",
      "      Successfully uninstalled yt-dlp-2023.3.4\n",
      "Successfully installed brotli-1.0.9 certifi-2023.5.7 mutagen-1.46.0 pycryptodomex-3.18.0 websockets-11.0.3 yt-dlp-2023.3.4\n",
      "Note: you may need to restart the kernel to use updated packages.\n"
     ]
    },
    {
     "name": "stderr",
     "output_type": "stream",
     "text": [
      "WARNING: Ignoring invalid distribution -ycryptodomex (c:\\users\\jeong\\anaconda3\\lib\\site-packages)\n",
      "WARNING: Ignoring invalid distribution -ycryptodomex (c:\\users\\jeong\\anaconda3\\lib\\site-packages)\n",
      "WARNING: Ignoring invalid distribution -ycryptodomex (c:\\users\\jeong\\anaconda3\\lib\\site-packages)\n",
      "    WARNING: Ignoring invalid distribution -ycryptodomex (c:\\users\\jeong\\anaconda3\\lib\\site-packages)\n",
      "    WARNING: Ignoring invalid distribution -ycryptodomex (c:\\users\\jeong\\anaconda3\\lib\\site-packages)\n",
      "    WARNING: Ignoring invalid distribution -ycryptodomex (c:\\users\\jeong\\anaconda3\\lib\\site-packages)\n",
      "    WARNING: Ignoring invalid distribution -ycryptodomex (c:\\users\\jeong\\anaconda3\\lib\\site-packages)\n",
      "    WARNING: Ignoring invalid distribution -ycryptodomex (c:\\users\\jeong\\anaconda3\\lib\\site-packages)\n",
      "    WARNING: Ignoring invalid distribution -ycryptodomex (c:\\users\\jeong\\anaconda3\\lib\\site-packages)\n",
      "WARNING: Ignoring invalid distribution -ycryptodomex (c:\\users\\jeong\\anaconda3\\lib\\site-packages)\n",
      "WARNING: Ignoring invalid distribution -ycryptodomex (c:\\users\\jeong\\anaconda3\\lib\\site-packages)\n",
      "WARNING: Ignoring invalid distribution -ycryptodomex (c:\\users\\jeong\\anaconda3\\lib\\site-packages)\n",
      "WARNING: Ignoring invalid distribution -ycryptodomex (c:\\users\\jeong\\anaconda3\\lib\\site-packages)\n",
      "WARNING: Ignoring invalid distribution -ycryptodomex (c:\\users\\jeong\\anaconda3\\lib\\site-packages)\n",
      "WARNING: Ignoring invalid distribution -ycryptodomex (c:\\users\\jeong\\anaconda3\\lib\\site-packages)\n",
      "ERROR: pip's dependency resolver does not currently take into account all the packages that are installed. This behaviour is the source of the following dependency conflicts.\n",
      "anaconda-project 0.11.1 requires ruamel-yaml, which is not installed.\n",
      "conda-repo-cli 1.0.20 requires clyent==1.2.1, but you have clyent 1.2.2 which is incompatible.\n",
      "conda-repo-cli 1.0.20 requires nbformat==5.4.0, but you have nbformat 5.5.0 which is incompatible.\n",
      "WARNING: Ignoring invalid distribution -ycryptodomex (c:\\users\\jeong\\anaconda3\\lib\\site-packages)\n",
      "WARNING: Ignoring invalid distribution -ycryptodomex (c:\\users\\jeong\\anaconda3\\lib\\site-packages)\n",
      "WARNING: Ignoring invalid distribution -ycryptodomex (c:\\users\\jeong\\anaconda3\\lib\\site-packages)\n"
     ]
    }
   ],
   "source": [
    "pip install --force-reinstall https://github.com/yt-dlp/yt-dlp/archive/master.tar.gz"
   ]
  },
  {
   "cell_type": "code",
   "execution_count": 2,
   "id": "2d42bebd",
   "metadata": {},
   "outputs": [
    {
     "name": "stdout",
     "output_type": "stream",
     "text": [
      "[youtube] Extracting URL: http://www.youtube.com/watch?v=Lr9xbHtpAfU\n",
      "[youtube] Lr9xbHtpAfU: Downloading webpage\n",
      "[youtube] Lr9xbHtpAfU: Downloading android player API JSON\n",
      "[youtube] Lr9xbHtpAfU: Downloading MPD manifest\n",
      "[info] Lr9xbHtpAfU: Downloading 1 format(s): 248+251\n",
      "[dashsegments] Total fragments: 54\n",
      "[download] Destination: 저장 경로 템플릿.f248.webm\n",
      "[download] 100% of   55.26MiB in 00:00:22 at 2.42MiB/s                   Done downloading, now converting ...\n",
      "\n",
      "[download] Destination: 저장 경로 템플릿.f251.webm\n",
      "[download] 100% of    4.63MiB in 00:00:00 at 8.62MiB/s   Done downloading, now converting ...\n",
      "\n",
      "[Merger] Merging formats into \"저장 경로 템플릿.webm\"\n",
      "Deleting original file 저장 경로 템플릿.f248.webm (pass -k to keep)\n",
      "Deleting original file 저장 경로 템플릿.f251.webm (pass -k to keep)\n"
     ]
    }
   ],
   "source": [
    "from __future__ import unicode_literals\n",
    "import yt_dlp as youtube_dl\n",
    "\n",
    "def my_hook(d):\n",
    "    if d['status'] == 'finished':\n",
    "        print('Done downloading, now converting ...')\n",
    "\n",
    "ydl_opts = {\n",
    "    'download_archive': 'archive.txt',\n",
    "    'ignoreerrors': True,\n",
    "    'nooverwrites': True,\n",
    "    'format': 'bestvideo[height<=1080]+bestaudio/best[height<=1080]/best',       \n",
    "    'outtmpl': '저장 경로 템플릿',        \n",
    "    'noplaylist' : False,       \n",
    "    'progress_hooks': [my_hook],  \n",
    "}\n",
    "\n",
    "with youtube_dl.YoutubeDL(ydl_opts) as ydl:\n",
    "    ydl.download(['http://www.youtube.com/watch?v=Lr9xbHtpAfU'])\n",
    "\n",
    "\n"
   ]
  }
 ],
 "metadata": {
  "kernelspec": {
   "display_name": "Python 3 (ipykernel)",
   "language": "python",
   "name": "python3"
  },
  "language_info": {
   "codemirror_mode": {
    "name": "ipython",
    "version": 3
   },
   "file_extension": ".py",
   "mimetype": "text/x-python",
   "name": "python",
   "nbconvert_exporter": "python",
   "pygments_lexer": "ipython3",
   "version": "3.9.7"
  }
 },
 "nbformat": 4,
 "nbformat_minor": 5
}
