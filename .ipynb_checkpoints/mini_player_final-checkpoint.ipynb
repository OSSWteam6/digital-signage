{
 "cells": [
  {
   "cell_type": "code",
   "execution_count": 1,
   "metadata": {
    "scrolled": true
   },
   "outputs": [
    {
     "name": "stdout",
     "output_type": "stream",
     "text": [
      "Requirement already satisfied: python-vlc in /Users/yoonjit/anaconda3/lib/python3.10/site-packages (3.0.18122)\r\n"
     ]
    }
   ],
   "source": [
    "!pip install --upgrade python-vlc"
   ]
  },
  {
   "cell_type": "code",
   "execution_count": 2,
   "metadata": {
    "scrolled": true
   },
   "outputs": [
    {
     "name": "stdout",
     "output_type": "stream",
     "text": [
      "Name: python-vlc\n",
      "Version: 3.0.18122\n",
      "Summary: VLC bindings for python.\n",
      "Home-page: http://wiki.videolan.org/PythonBinding\n",
      "Author: Olivier Aubert\n",
      "Author-email: contact@olivieraubert.net\n",
      "License: LGPL-2.1+\n",
      "Location: /Users/yoonjit/anaconda3/lib/python3.10/site-packages\n",
      "Requires: \n",
      "Required-by: \n",
      "Note: you may need to restart the kernel to use updated packages.\n"
     ]
    }
   ],
   "source": [
    "pip show python-vlc"
   ]
  },
  {
   "cell_type": "code",
   "execution_count": 3,
   "metadata": {},
   "outputs": [
    {
     "name": "stdout",
     "output_type": "stream",
     "text": [
      "Requirement already satisfied: pafy in /Users/yoonjit/anaconda3/lib/python3.10/site-packages (0.5.5)\r\n"
     ]
    }
   ],
   "source": [
    "!pip install --upgrade pafy"
   ]
  },
  {
   "cell_type": "code",
   "execution_count": 4,
   "metadata": {
    "scrolled": true
   },
   "outputs": [
    {
     "name": "stdout",
     "output_type": "stream",
     "text": [
      "Name: pafy\n",
      "Version: 0.5.5\n",
      "Summary: Retrieve YouTube content and metadata\n",
      "Home-page: http://np1.github.io/pafy/\n",
      "Author: np1\n",
      "Author-email: np1nagev@gmail.com\n",
      "License: LGPLv3\n",
      "Location: /Users/yoonjit/anaconda3/lib/python3.10/site-packages\n",
      "Requires: \n",
      "Required-by: \n",
      "Note: you may need to restart the kernel to use updated packages.\n"
     ]
    }
   ],
   "source": [
    "pip show pafy"
   ]
  },
  {
   "cell_type": "code",
   "execution_count": 1,
   "metadata": {},
   "outputs": [
    {
     "name": "stderr",
     "output_type": "stream",
     "text": [
      "qt.qpa.window: <QNSWindow: 0x117e0b020; contentView=<QNSView: 0x117e10fc0; QCocoaWindow(0x600003b00000, window=QWidgetWindow(0x60000280cae0, name=\"QMacCocoaViewContainerClassWindow\"))>> has active key-value observers (KVO)! These will stop working now that the window is recreated, and will result in exceptions when the observers are removed. Break in QCocoaWindow::recreateWindowIfNeeded to debug.\n"
     ]
    },
    {
     "ename": "SystemExit",
     "evalue": "0",
     "output_type": "error",
     "traceback": [
      "An exception has occurred, use %tb to see the full traceback.\n",
      "\u001b[0;31mSystemExit\u001b[0m\u001b[0;31m:\u001b[0m 0\n"
     ]
    },
    {
     "name": "stderr",
     "output_type": "stream",
     "text": [
      "/Users/yoonjit/anaconda3/lib/python3.10/site-packages/IPython/core/interactiveshell.py:3468: UserWarning: To exit: use 'exit', 'quit', or Ctrl-D.\n",
      "  warn(\"To exit: use 'exit', 'quit', or Ctrl-D.\", stacklevel=1)\n"
     ]
    }
   ],
   "source": [
    "# mini player\n",
    "\n",
    "# PyQt5-based video-sync example for VLC Python bindings\n",
    "# Copyright (C) 2009-2010 the VideoLAN team\n",
    "#\n",
    "# This program is free software; you can redistribute it and/or modify\n",
    "# it under the terms of the GNU General Public License as published by\n",
    "# the Free Software Foundation; either version 2 of the License, or\n",
    "# (at your option) any later version.\n",
    "#\n",
    "# This program is distributed in the hope that it will be useful,\n",
    "# but WITHOUT ANY WARRANTY; without even the implied warranty of\n",
    "# MERCHANTABILITY or FITNESS FOR A PARTICULAR PURPOSE.  See the\n",
    "# GNU General Public License for more details.\n",
    "#\n",
    "# You should have received a copy of the GNU General Public License\n",
    "# along with this program; if not, write to the Free Software\n",
    "# Foundation, Inc., 51 Franklin Street, Fifth Floor, Boston MA 02110-1301, USA.\n",
    "#\n",
    "\"\"\"\n",
    "This module contains a bare-bones VLC player class to play videos.\n",
    "\n",
    "Author: Saveliy Yusufov, Columbia University, sy2685@columbia.edu\n",
    "Date: 25 January 2019\n",
    "\"\"\"\n",
    "\n",
    "import os\n",
    "import sys\n",
    "import queue\n",
    "import platform\n",
    "\n",
    "from PyQt5 import QtWidgets, QtGui, QtCore\n",
    "import vlc\n",
    "from network import Client\n",
    "from PyQt5.QtCore import Qt #수정 5.31\n",
    "from PyQt5.QtMultimedia import QMediaPlayer, QMediaPlaylist # 반복재생을 위한 패키지 임포트 5.31\n",
    "\n",
    "\n",
    "class MiniPlayer(QtWidgets.QMainWindow):\n",
    "    \"\"\"Stripped-down PyQt5-based media player class to sync with \"master\" video.\n",
    "    \"\"\"\n",
    "\n",
    "    def __init__(self, data_queue, master=None):\n",
    "        QtWidgets.QMainWindow.__init__(self, master)\n",
    "        self.setWindowTitle(\"Mini Player\")\n",
    "        self.statusbar = self.statusBar()\n",
    "        self.statusbar.showMessage(\"Ready\")\n",
    "\n",
    "        # Create a basic vlc instance\n",
    "        self.instance = vlc.Instance()\n",
    "\n",
    "        self.media = None\n",
    "\n",
    "        # Create an empty vlc media player\n",
    "    \n",
    "        self.mediaplayer = self.instance.media_player_new()\n",
    "        self.list_player = self.instance.media_list_player_new()\n",
    "\n",
    "        self.init_ui()\n",
    "        self.open_file()\n",
    "\n",
    "        self.timer = QtCore.QTimer(self)\n",
    "        self.timer.setInterval(10)\n",
    "        self.timer.timeout.connect(self.update_ui)\n",
    "\n",
    "        self.data_queue = data_queue\n",
    "        self.timer.start()\n",
    "\n",
    "    def init_ui(self):\n",
    "        \"\"\"Set up the user interface\n",
    "        \"\"\"\n",
    "        self.widget = QtWidgets.QWidget(self)\n",
    "        self.setCentralWidget(self.widget)\n",
    "        self.setWindowFlags(Qt.WindowStaysOnTopHint) #수정 !\n",
    "\n",
    "        # In this widget, the video will be drawn\n",
    "        if platform.system() == \"Darwin\":  # for MacOS\n",
    "            self.videoframe = QtWidgets.QMacCocoaViewContainer(0)\n",
    "        else:\n",
    "            self.videoframe = QtWidgets.QFrame()\n",
    "\n",
    "        self.palette = self.videoframe.palette()\n",
    "        self.palette.setColor(QtGui.QPalette.Window, QtGui.QColor(0, 0, 0))\n",
    "        self.videoframe.setPalette(self.palette)\n",
    "        self.videoframe.setAutoFillBackground(True)\n",
    "\n",
    "        self.vboxlayout = QtWidgets.QVBoxLayout()\n",
    "        self.vboxlayout.addWidget(self.videoframe)\n",
    "        self.widget.setLayout(self.vboxlayout)    \n",
    "        \n",
    "    def set_video_to_loop(self):\n",
    "        self.media_list = self.instance.media_list_new([self.media])\n",
    "        self.list_player = self.instance.media_list_player_new()\n",
    "        self.list_player.set_media_player(self.mediaplayer)\n",
    "        self.list_player.set_media_list(self.media_list)\n",
    "        self.list_player.set_playback_mode(vlc.PlaybackMode.loop)    \n",
    "            \n",
    "    \n",
    "    def open_file(self):\n",
    "        \"\"\"Open a media file in a MediaPlayer\n",
    "        \"\"\"\n",
    "#         dialog_txt = \"Choose Media File\"\n",
    "#         filename = QtWidgets.QFileDialog.getOpenFileName(self, dialog_txt, os.path.expanduser('~'))\n",
    "#         if not filename[0]:\n",
    "#             return -> 파일 지정으로 인해 주석 처리함. \n",
    "\n",
    "        # getOpenFileName returns a tuple, so use only the actual file name\n",
    "        self.media = self.instance.media_new('./저장 경로 템플릿.f248.webm')\n",
    "        # Put the media in the media player\n",
    "        self.mediaplayer.set_media(self.media)\n",
    "\n",
    "        # Parse the metadata of the file\n",
    "        self.media.parse()\n",
    "        \n",
    "        \n",
    "        # Set the title of the track as the window title\n",
    "        self.setWindowTitle(\"{}\".format(self.media.get_meta(0)))\n",
    "\n",
    "        # The media player has to be 'connected' to the QFrame (otherwise the\n",
    "        # video would be displayed in it's own window). This is platform\n",
    "        # specific, so we must give the ID of the QFrame (or similar object) to\n",
    "        # vlc. Different platforms have different functions for this\n",
    "        if platform.system() == \"Linux\":  # for Linux using the X Server\n",
    "            self.mediaplayer.set_xwindow(int(self.videoframe.winId()))\n",
    "        elif platform.system() == \"Windows\":  # for Windows\n",
    "            self.mediaplayer.set_hwnd(int(self.videoframe.winId()))\n",
    "        elif platform.system() == \"Darwin\":  # for MacOS\n",
    "            self.mediaplayer.set_nsobject(int(self.videoframe.winId()))\n",
    "            \n",
    "        self.mediaplayer.play()\n",
    "        self.set_video_to_loop()\n",
    "        \n",
    "\n",
    "    def update_ui(self):\n",
    "        self.update_statusbar()\n",
    "\n",
    "        try:\n",
    "            val = self.data_queue.get(block=False)\n",
    "        except queue.Empty:\n",
    "            return\n",
    "\n",
    "        if val == '<':\n",
    "            self.mediaplayer.set_rate(self.mediaplayer.get_rate() * 0.5)\n",
    "            return\n",
    "        if val == '>':\n",
    "            self.mediaplayer.set_rate(self.mediaplayer.get_rate() * 2)\n",
    "            return\n",
    "        if val == 'P':\n",
    "            self.mediaplayer.play()\n",
    "            return\n",
    "        if val == 'p':\n",
    "            self.mediaplayer.pause()\n",
    "            return\n",
    "        if val == 'S':\n",
    "            self.mediaplayer.stop()\n",
    "            return\n",
    "\n",
    "        val = int(val)\n",
    "        if val != self.mediaplayer.get_time():\n",
    "            self.mediaplayer.set_time(val)\n",
    "        \n",
    "        if self.mediaplayer.get_state() == vlc.state.Ended:\n",
    "            self.mediaplayer.stop()\n",
    "            self.mediaplayer.set_time(0)\n",
    "            self.mediaplayer.play()\n",
    "            \n",
    "    def update_statusbar(self):\n",
    "        mtime = QtCore.QTime(0, 0, 0, 0)\n",
    "        time = mtime.addMSecs(self.mediaplayer.get_time())\n",
    "        self.statusbar.showMessage(time.toString())\n",
    "\n",
    "\n",
    "def main():\n",
    "    \"\"\"Entry point for our simple vlc player\n",
    "    \"\"\"\n",
    "    app = QtWidgets.QApplication(sys.argv)\n",
    "\n",
    "    data_queue = queue.Queue()\n",
    "\n",
    "    player = MiniPlayer(data_queue)\n",
    "    player.show()\n",
    "    player.resize(480, 480)\n",
    "    sys.exit(app.exec_())\n",
    "\n",
    "\n",
    "if __name__ == \"__main__\":\n",
    "    main()"
   ]
  },
  {
   "cell_type": "code",
   "execution_count": null,
   "metadata": {},
   "outputs": [],
   "source": []
  }
 ],
 "metadata": {
  "kernelspec": {
   "display_name": "Python 3 (ipykernel)",
   "language": "python",
   "name": "python3"
  },
  "language_info": {
   "codemirror_mode": {
    "name": "ipython",
    "version": 3
   },
   "file_extension": ".py",
   "mimetype": "text/x-python",
   "name": "python",
   "nbconvert_exporter": "python",
   "pygments_lexer": "ipython3",
   "version": "3.10.9"
  }
 },
 "nbformat": 4,
 "nbformat_minor": 4
}
